{
  "nbformat": 4,
  "nbformat_minor": 0,
  "metadata": {
    "colab": {
      "provenance": []
    },
    "kernelspec": {
      "name": "python3",
      "display_name": "Python 3"
    },
    "language_info": {
      "name": "python"
    }
  },
  "cells": [
    {
      "cell_type": "markdown",
      "source": [
        "# **hi**\n",
        "\n",
        "This is basically my personal notes, code and exercises/execution of Andrej Karpathy's Neural Network from Scratch, MNIST classifier and 3b1b's MNIST classififer. I'll keep updating it but it's a little rough.\n",
        "\n",
        "The task he covered was building an Automatic Differentiation engine, because these are used in building gradient based optimization, used in training neural networks.\n",
        "\n",
        "you can read more about it [here](https://huggingface.co/blog/andmholm/what-is-automatic-differentiation)\n",
        "\n",
        "If you don't know anything about neural nets or math or even ML or even coding don't worry, I have you covered. http://neuralnetworksanddeeplearning.com/chap1.html is a highly recommended reading and the below are my personal notes that i took\n"
      ],
      "metadata": {
        "id": "2QuATpmH3ldb"
      }
    },
    {
      "cell_type": "markdown",
      "source": [],
      "metadata": {
        "id": "bZSCK2n963KD"
      }
    },
    {
      "cell_type": "markdown",
      "source": [
        "\n",
        "# **Pereptrons/Basic Neuron**\n",
        "\n",
        "1. Set of binary inputs {x1, x2, x3... xN} to singular binary output Y.\n",
        "\n",
        "2. Perceptrons were developed in the 1950s and 1960s by the scientist Frank Rosenblatt, inspired by earlier work by Warren McCulloch and Walter Pitts.\n",
        "\n",
        "￼\n",
        "\n",
        "- The first layer of perceptrons makes simple decisions by weighing input evidence.\n",
        "- Perceptrons in the second layer weigh results from the first layer, enabling more complex and abstract decisions.\n",
        "- The third layer perceptrons can make even more complex decisions.\n",
        "- A multi-layer network of perceptrons allows for sophisticated decision-making.\n",
        "- Each perceptron has a single output, despite appearances. This is by definition\n",
        "- Multiple output arrows indicate that a perceptron's output is used as input for several others.\n",
        "- This representation is simpler than drawing a single output line that splits.\n",
        "\n",
        "￼\n"
      ],
      "metadata": {
        "id": "SfCKx6hk2tbA"
      }
    },
    {
      "cell_type": "markdown",
      "source": [
        "# **Task Breakdown**\n",
        "1."
      ],
      "metadata": {
        "id": "CPKn0yjo4KzD"
      }
    },
    {
      "cell_type": "code",
      "execution_count": 7,
      "metadata": {
        "colab": {
          "base_uri": "https://localhost:8080/"
        },
        "id": "yT4mv8tB3ocd",
        "outputId": "7761756e-026a-4ca4-9ec9-511da4eb3a46"
      },
      "outputs": [
        {
          "output_type": "stream",
          "name": "stdout",
          "text": [
            "Value(data=5.0)\n",
            "Value(data=6.0)\n"
          ]
        }
      ],
      "source": [
        "#The bigger picture here is to tell you what neural networks are.\n",
        "#for starters, Value is basically a neuron with an activation value.\n",
        "class Value:\n",
        "  def __init__(self, data, _children=(), _op='', label=''):\n",
        "    #self is the object\n",
        "    #data is the weight of the neural net, lets say, a,b,c,d,e,f\n",
        "    #children is the next NN layer\n",
        "    #op is the operation defined\n",
        "    self.data=data\n",
        "    self._prev=set(_children)\n",
        "  def __repr__(self):\n",
        "    return f'Value(data={self.data})'\n",
        "  #this helps you get the object representation of the thing vs an ugly expression of the thing\n",
        "  def add(self,other):\n",
        "    return Value(self.data+other.data, (self, other), '+')\n",
        "  def mul(self,other):\n",
        "    return Value(self.data*other.data, (self, other), '*')\n",
        "a=Value(2.0)\n",
        "b=Value(3.0)\n",
        "c=a.add(b)\n",
        "print(c)\n",
        "d=a.mul(b)\n",
        "print(d)"
      ]
    },
    {
      "cell_type": "markdown",
      "source": [
        "This code defines the __init__ method of a class. The __init__ method is a special method in Python that is automatically called when an instance of the class is created. It is used to initialize the attributes of the object.\n",
        "Here's a breakdown of the code:\n",
        "\n",
        "def __init__(self, data, _children=()):\n",
        "\n",
        "This is the function definition for the __init__ method.\n",
        "It takes three parameters:\n",
        "\n",
        "self: This is a reference to the current object being initialized.\n",
        "data: This is the first argument passed when creating an instance of the class.\n",
        "_children: This is an optional second argument, which has a default value of an empty tuple ().\n",
        "\n",
        "\n",
        "\n",
        "\n",
        "self.data = data\n",
        "\n",
        "This line assigns the value of the data parameter to the data attribute of the object.\n",
        "\n",
        "\n",
        "self.prev = set(_children)\n",
        "\n",
        "This line creates a set from the _children parameter and assigns it to the prev attribute of the object.\n",
        "\n",
        "\n",
        "\n",
        "The purpose of this code is to initialize an object with two attributes: data and prev. The data attribute is set to the value of the data parameter, and the prev attribute is set to a set of the _children parameter.\n",
        "The use of a set for the prev attribute suggests that this class might be part of a data structure or algorithm that involves keeping track of previous or related nodes/objects. The set data structure is efficient for membership testing and removing duplicates."
      ],
      "metadata": {
        "id": "QLY2ukld-mff"
      }
    },
    {
      "cell_type": "code",
      "source": [],
      "metadata": {
        "id": "a6efyHAc8suA"
      },
      "execution_count": null,
      "outputs": []
    }
  ]
}